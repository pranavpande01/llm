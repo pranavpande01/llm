{
 "cells": [
  {
   "cell_type": "code",
   "execution_count": null,
   "id": "0e8014a7",
   "metadata": {
    "vscode": {
     "languageId": "plaintext"
    }
   },
   "outputs": [],
   "source": [
    "import asyncio\n",
    "from crawl4ai import AsyncWebCrawler\n",
    "\n",
    "async def main():\n",
    "    # Create an instance of AsyncWebCrawler\n",
    "    async with AsyncWebCrawler() as crawler:\n",
    "        # Run the crawler on a URL\n",
    "        result = await crawler.arun(url=\"https://crawl4ai.com\")\n",
    "\n",
    "        # Print the extracted content\n",
    "        print(result.markdown)\n",
    "\n",
    "# Run the async main function\n",
    "asyncio.run(main())\n",
    "\n"
   ]
  }
 ],
 "metadata": {
  "language_info": {
   "name": "python"
  }
 },
 "nbformat": 4,
 "nbformat_minor": 5
}
